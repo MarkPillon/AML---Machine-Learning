{
 "cells": [
  {
   "cell_type": "code",
   "execution_count": null,
   "metadata": {
    "vscode": {
     "languageId": "plaintext"
    }
   },
   "outputs": [],
   "source": [
    "# Step 1: Mount Google Drive (if using Google Drive)\n",
    "from google.colab import drive\n",
    "drive.mount('/content/drive')"
   ]
  },
  {
   "cell_type": "code",
   "execution_count": null,
   "metadata": {
    "vscode": {
     "languageId": "plaintext"
    }
   },
   "outputs": [],
   "source": [
    "# Step 2: Import Necessary Libraries\n",
    "import pandas as pd\n",
    "import glob\n",
    "import os\n",
    "from datetime import datetime\n",
    "import logging"
   ]
  },
  {
   "cell_type": "code",
   "execution_count": null,
   "metadata": {
    "vscode": {
     "languageId": "plaintext"
    }
   },
   "outputs": [],
   "source": [
    "# Set up logging\n",
    "logging.basicConfig(level=logging.INFO)\n",
    "logger = logging.getLogger(__name__)"
   ]
  },
  {
   "cell_type": "code",
   "execution_count": null,
   "metadata": {
    "vscode": {
     "languageId": "plaintext"
    }
   },
   "outputs": [],
   "source": [
    "# Step 3: Identify CSV Files\n",
    "folder_path = '/content/drive/My Drive/Buffetti/Payments'\n",
    "files = glob.glob(os.path.join(folder_path, '*.csv'))"
   ]
  },
  {
   "cell_type": "code",
   "execution_count": null,
   "metadata": {
    "vscode": {
     "languageId": "plaintext"
    }
   },
   "outputs": [],
   "source": [
    "# Step 3: Identify CSV Files\n",
    "folder_path = '/content/drive/My Drive/Buffetti/Payments'\n",
    "files = glob.glob(os.path.join(folder_path, '*.csv'))"
   ]
  },
  {
   "cell_type": "code",
   "execution_count": null,
   "metadata": {
    "vscode": {
     "languageId": "plaintext"
    }
   },
   "outputs": [],
   "source": [
    "# Step 5: Parse and Sort by Date\n",
    "def parse_date(date_str):\n",
    "    for fmt in (\"%Y-%m-%d %H:%M:%S\", \"%Y-%m-%d\", \"%A, %B %d, %Y\"):\n",
    "        try:\n",
    "            return datetime.strptime(date_str, fmt)\n",
    "        except ValueError:\n",
    "            continue\n",
    "    logger.error(f\"No valid date format found for {date_str}\")\n",
    "    return pd.NaT  # Return NaT for invalid dates"
   ]
  },
  {
   "cell_type": "code",
   "execution_count": null,
   "metadata": {
    "vscode": {
     "languageId": "plaintext"
    }
   },
   "outputs": [],
   "source": [
    "# Step 5: Parse and Sort by Date\n",
    "def parse_date(date_str):\n",
    "    for fmt in (\"%Y-%m-%d %H:%M:%S\", \"%Y-%m-%d\", \"%A, %B %d, %Y\"):\n",
    "        try:\n",
    "            return datetime.strptime(date_str, fmt)\n",
    "        except ValueError:\n",
    "            continue\n",
    "    logger.error(f\"No valid date format found for {date_str}\")\n",
    "    return pd.NaT  # Return NaT for invalid dates"
   ]
  },
  {
   "cell_type": "code",
   "execution_count": null,
   "metadata": {
    "vscode": {
     "languageId": "plaintext"
    }
   },
   "outputs": [],
   "source": [
    "# Verification\n",
    "\n",
    "# Check the structure of the combined DataFrame\n",
    "logger.info(f\"First few rows of the combined DataFrame:\\n{combined_df.head()}\")\n",
    "logger.info(f\"Last few rows of the combined DataFrame:\\n{combined_df.tail()}\")\n",
    "\n",
    "# Check for missing values\n",
    "missing_values = combined_df.isnull().sum()\n",
    "logger.info(f\"Missing values in each column:\\n{missing_values}\")\n",
    "\n",
    "# Verify data types\n",
    "data_types = combined_df.dtypes\n",
    "logger.info(f\"Data types of each column:\\n{data_types}\")\n",
    "\n",
    "# Randomly sample a few rows to verify content\n",
    "sample_rows = combined_df.sample(5)\n",
    "logger.info(f\"Sample rows from the combined DataFrame:\\n{sample_rows}\")\n",
    "\n",
    "# Verify the total number of rows\n",
    "if total_rows == len(combined_df):\n",
    "    logger.info(f\"Row count verification passed: {total_rows} rows in total.\")\n",
    "else:\n",
    "    logger.error(f\"Row count verification failed: {total_rows} rows expected, but got {len(combined_df)} rows.\")\n",
    "\n",
    "# Output the first few rows of the combined DataFrame to visually inspect\n",
    "combined_df.head()"
   ]
  },
  {
   "cell_type": "code",
   "execution_count": null,
   "metadata": {
    "vscode": {
     "languageId": "plaintext"
    }
   },
   "outputs": [],
   "source": [
    "combined_df.shape"
   ]
  },
  {
   "cell_type": "code",
   "execution_count": null,
   "metadata": {
    "vscode": {
     "languageId": "plaintext"
    }
   },
   "outputs": [],
   "source": [
    "pip install pycaret --quiet"
   ]
  },
  {
   "cell_type": "code",
   "execution_count": null,
   "metadata": {
    "vscode": {
     "languageId": "plaintext"
    }
   },
   "outputs": [],
   "source": [
    "import pandas as pd\n",
    "import datetime\n",
    "from datetime import timedelta\n",
    "import plotly.express as px\n",
    "import numpy as np"
   ]
  },
  {
   "cell_type": "code",
   "execution_count": null,
   "metadata": {
    "vscode": {
     "languageId": "plaintext"
    }
   },
   "outputs": [],
   "source": [
    "combined_df.info()"
   ]
  },
  {
   "cell_type": "code",
   "execution_count": null,
   "metadata": {
    "vscode": {
     "languageId": "plaintext"
    }
   },
   "outputs": [],
   "source": [
    "# Count the number of unique items in each column of the DataFrame\n",
    "unique_counts = combined_df.nunique()\n",
    "\n",
    "# Print the unique counts\n",
    "print(unique_counts)"
   ]
  },
  {
   "cell_type": "code",
   "execution_count": null,
   "metadata": {
    "vscode": {
     "languageId": "plaintext"
    }
   },
   "outputs": [],
   "source": [
    "# Count the number of unique items in each column of the DataFrame\n",
    "unique_counts = combined_df.nunique()\n",
    "\n",
    "# Print the unique counts\n",
    "print(unique_counts)"
   ]
  },
  {
   "cell_type": "code",
   "execution_count": null,
   "metadata": {
    "vscode": {
     "languageId": "plaintext"
    }
   },
   "outputs": [],
   "source": [
    "# Count the number of unique items in each column of the DataFrame\n",
    "unique_counts = combined_df.nunique()\n",
    "\n",
    "# Print the unique counts\n",
    "print(unique_counts)"
   ]
  },
  {
   "cell_type": "code",
   "execution_count": null,
   "metadata": {
    "vscode": {
     "languageId": "plaintext"
    }
   },
   "outputs": [],
   "source": [
    "model"
   ]
  }
 ],
 "metadata": {
  "language_info": {
   "name": "python"
  }
 },
 "nbformat": 4,
 "nbformat_minor": 2
}
